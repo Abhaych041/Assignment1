{
 "cells": [
  {
   "cell_type": "code",
   "execution_count": 4,
   "metadata": {},
   "outputs": [
    {
     "name": "stdout",
     "output_type": "stream",
     "text": [
      "6.0\n"
     ]
    }
   ],
   "source": [
    "class area:\n",
    "    def __init__(self,a,b,c):\n",
    "        self.a=a\n",
    "        self.b=b\n",
    "        self.c=c\n",
    "class calculate(area):\n",
    "    def calarea(self,a,b,c):\n",
    "        s=(a+b+c)//2\n",
    "        return (s*(s-a)*(s-b)*(s-c))**0.5\n",
    "obj=calculate(2,3,4)\n",
    "print(obj.calarea(3,4,5))\n",
    "        "
   ]
  },
  {
   "cell_type": "code",
   "execution_count": 5,
   "metadata": {},
   "outputs": [
    {
     "name": "stdout",
     "output_type": "stream",
     "text": [
      "['hello', 'abhay', 'poi']\n"
     ]
    }
   ],
   "source": [
    "def filter_long_words(l,n):\n",
    "    p=[]\n",
    "    for i in range(len(l)):\n",
    "        if len(l[i])>n:\n",
    "            p.append(l[i])\n",
    "    return p\n",
    "l=[\"hello\",\"abhay\",\"df\",\"poi\"]\n",
    "n=2\n",
    "print(filter_long_words(l,n))"
   ]
  },
  {
   "cell_type": "code",
   "execution_count": 6,
   "metadata": {},
   "outputs": [
    {
     "data": {
      "text/plain": [
       "[5, 5, 2, 3]"
      ]
     },
     "execution_count": 6,
     "metadata": {},
     "output_type": "execute_result"
    }
   ],
   "source": [
    "def map_list(l):\n",
    "    p=[]\n",
    "    for i in l:\n",
    "        p.append(len(i))\n",
    "    return p\n",
    "l=[\"hello\",\"abhay\",\"df\",\"poi\"]\n",
    "map_list(l)"
   ]
  },
  {
   "cell_type": "code",
   "execution_count": 7,
   "metadata": {},
   "outputs": [
    {
     "data": {
      "text/plain": [
       "True"
      ]
     },
     "execution_count": 7,
     "metadata": {},
     "output_type": "execute_result"
    }
   ],
   "source": [
    "def vowel(n):\n",
    "    s=\"aeiouAEIOU\"\n",
    "    if n in s:\n",
    "        return True\n",
    "    else:\n",
    "        return False\n",
    "n='a'\n",
    "vowel(n)\n",
    "    "
   ]
  }
 ],
 "metadata": {
  "kernelspec": {
   "display_name": "Python 3",
   "language": "python",
   "name": "python3"
  },
  "language_info": {
   "codemirror_mode": {
    "name": "ipython",
    "version": 3
   },
   "file_extension": ".py",
   "mimetype": "text/x-python",
   "name": "python",
   "nbconvert_exporter": "python",
   "pygments_lexer": "ipython3",
   "version": "3.8.3"
  }
 },
 "nbformat": 4,
 "nbformat_minor": 4
}
